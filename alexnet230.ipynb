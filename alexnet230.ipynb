{
 "cells": [
  {
   "cell_type": "code",
   "execution_count": 3,
   "metadata": {},
   "outputs": [],
   "source": [
    "import numpy as np\n",
    "from keras import layers\n",
    "from keras.layers import Input, Add, Dense, Activation, ZeroPadding2D, BatchNormalization, Flatten, Conv2D, AveragePooling2D, MaxPooling2D, GlobalMaxPooling2D\n",
    "from keras.models import Model, load_model\n",
    "from keras.preprocessing import image\n",
    "from keras.utils import layer_utils\n",
    "from keras.utils.data_utils import get_file\n",
    "from keras.applications.imagenet_utils import preprocess_input\n",
    "from IPython.display import SVG\n",
    "from keras.utils.vis_utils import model_to_dot\n",
    "from keras.utils import plot_model\n",
    "from keras.initializers import glorot_uniform\n",
    "import scipy.misc\n",
    "from matplotlib.pyplot import imshow\n",
    "%matplotlib inline\n",
    "\n",
    "import keras.backend as K\n",
    "K.set_image_data_format('channels_last')\n",
    "K.set_learning_phase(1)"
   ]
  },
  {
   "cell_type": "code",
   "execution_count": 15,
   "metadata": {},
   "outputs": [],
   "source": [
    "def alexnet(input_shape = (256,256,3), labels = 2):\n",
    "    \n",
    "    \"\"\" AlextNet architecture (without bactchnorm) = [ CONV2D->RELU-> MAXPOOL] -> [CONV2D (same)->RELU-> \n",
    "    MAXPOOL] -> [CONV2D (same)->RELU] -> [CONV2D (same)->RELU] -> [CONV2D (same)->RELU -> MAXPOOL] -> \n",
    "    FC1 -> FC2 ->FC3 -> Logistic Unit \"\"\"\n",
    "    \n",
    "    \"\"\" Even with input size 256*256*3, the dimensions start aligining in the 4th stage\"\"\"\n",
    "    #Load input\n",
    "    I_input = Input(input_shape)\n",
    "    \n",
    "    #Stage 1\n",
    "    I = Conv2D(filters=96, kernel_size=(11,11), strides=(4,4), padding='valid', activation='relu', use_bias=True,\n",
    "               kernel_initializer='glorot_uniform', bias_initializer='zeros', name = 'conv1' )(I_input)\n",
    "    I = MaxPooling2D((3, 3), strides=(2, 2))(I)\n",
    "    \n",
    "    #Stage 2\n",
    "    I = Conv2D(filters=256, kernel_size=(5,5), strides=(1,1), padding='same', activation='relu', use_bias=True,\n",
    "               kernel_initializer='glorot_uniform', bias_initializer='zeros', name = 'conv2' )(I)\n",
    "    I = MaxPooling2D((3, 3), strides=(2, 2))(I)\n",
    "    \n",
    "    #Stage 3\n",
    "    I = Conv2D(filters=384, kernel_size=(3,3), strides=(1,1), padding='same', activation='relu', use_bias=True,\n",
    "               kernel_initializer='glorot_uniform', bias_initializer='zeros', name = 'conv3' )(I)\n",
    "\n",
    "    #Stage 4\n",
    "    I = Conv2D(filters=384, kernel_size=(3,3), strides=(1,1), padding='same', activation='relu', use_bias=True,\n",
    "               kernel_initializer='glorot_uniform', bias_initializer='zeros', name = 'conv4' )(I)\n",
    "    \n",
    "    #Stage 5\n",
    "    I = Conv2D(filters=256, kernel_size=(3,3), strides=(1,1), padding='same', activation='relu', use_bias=True,\n",
    "               kernel_initializer='glorot_uniform', bias_initializer='zeros', name = 'conv5' )(I)\n",
    "    I = MaxPooling2D((3, 3), strides=(2, 2))(I)\n",
    "    \n",
    "    #Flatten & Fully Connected layers\n",
    "    I = Flatten()(I)\n",
    "    I = Dense(units=4096, activation='relu', name='fc1', kernel_initializer = 'glorot_uniform')(I)\n",
    "    I = Dense(units=4096, activation='relu', name='fc2', kernel_initializer = 'glorot_uniform')(I)\n",
    "    I = Dense(labels, activation='relu', name='fc3' + str(labels), kernel_initializer = 'glorot_uniform')(I)\n",
    "    \n",
    "    model = Model(inputs = I_input, outputs = I, name='AlexNet')\n",
    "    \n",
    "    return model"
   ]
  },
  {
   "cell_type": "code",
   "execution_count": 16,
   "metadata": {},
   "outputs": [],
   "source": [
    "model = alexnet(input_shape = (256, 256, 3), labels = 2)"
   ]
  },
  {
   "cell_type": "code",
   "execution_count": 17,
   "metadata": {},
   "outputs": [],
   "source": [
    "model.compile(optimizer='adam', loss='binary_crossentropy', metrics=['accuracy'])"
   ]
  }
 ],
 "metadata": {
  "kernelspec": {
   "display_name": "Python 3",
   "language": "python",
   "name": "python3"
  },
  "language_info": {
   "codemirror_mode": {
    "name": "ipython",
    "version": 3
   },
   "file_extension": ".py",
   "mimetype": "text/x-python",
   "name": "python",
   "nbconvert_exporter": "python",
   "pygments_lexer": "ipython3",
   "version": "3.6.5"
  }
 },
 "nbformat": 4,
 "nbformat_minor": 2
}
