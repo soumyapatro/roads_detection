{
 "cells": [
  {
   "cell_type": "code",
   "execution_count": 20,
   "metadata": {},
   "outputs": [],
   "source": [
    "import numpy as np\n",
    "from keras import layers\n",
    "from keras import optimizers\n",
    "from keras.layers import Input, Add, Dense, Activation, ZeroPadding2D, BatchNormalization, Flatten, Conv2D, Dropout, AveragePooling2D, MaxPooling2D, GlobalMaxPooling2D\n",
    "from keras.models import Model, load_model\n",
    "from keras.preprocessing import image\n",
    "from keras.utils import layer_utils\n",
    "from keras.utils.data_utils import get_file\n",
    "from keras.applications.imagenet_utils import preprocess_input\n",
    "from IPython.display import SVG\n",
    "from keras.utils.vis_utils import model_to_dot\n",
    "from keras.utils import plot_model\n",
    "from keras.initializers import glorot_normal\n",
    "import scipy.misc\n",
    "from matplotlib.pyplot import imshow\n",
    "%matplotlib inline\n",
    "\n",
    "import keras.backend as K\n",
    "K.set_image_data_format('channels_last')\n",
    "K.set_learning_phase(1)"
   ]
  },
  {
   "cell_type": "code",
   "execution_count": 21,
   "metadata": {},
   "outputs": [],
   "source": [
    "def alexnet(input_shape = (256,256,3), labels = 2):\n",
    "    \n",
    "    \"\"\" AlextNet architecture (without bactchnorm) = [ CONV2D->RELU-> MAXPOOL] -> [CONV2D (same)->RELU-> \n",
    "    MAXPOOL] -> [CONV2D (same)->RELU] -> [CONV2D (same)->RELU] -> [CONV2D (same)->RELU -> MAXPOOL] -> \n",
    "    FC1 -> FC2 ->FC3 -> Logistic Unit \"\"\"\n",
    "    \n",
    "    \"\"\" Even with input size 256*256*3, the dimensions start aligining in the 4th stage\"\"\"\n",
    "    #Load input\n",
    "    I_input = Input(input_shape)\n",
    "    \n",
    "    #Stage 1\n",
    "    I = Conv2D(filters=96, kernel_size=(11,11), strides=(4,4), padding='valid', use_bias=True,\n",
    "               kernel_initializer=glorot_normal(seed=1), bias_initializer='zeros', name = 'conv1' )(I_input)\n",
    "    I = Activation('relu')(I)\n",
    "    I = BatchNormalization(axis = 3, name = 'bn_conv1')(I)\n",
    "    I = MaxPooling2D((3, 3), strides=(2, 2))(I)\n",
    "    \n",
    "    #Stage 2\n",
    "    I = Conv2D(filters=256, kernel_size=(5,5), strides=(1,1), padding='same', use_bias=True,\n",
    "               kernel_initializer=glorot_normal(seed=1), bias_initializer='zeros', name = 'conv2' )(I)\n",
    "    I = Activation('relu')(I)\n",
    "    I = BatchNormalization(axis = 3, name = 'bn_conv2')(I)\n",
    "    I = MaxPooling2D((3, 3), strides=(2, 2))(I)\n",
    "    \n",
    "    #Stage 3\n",
    "    I = Conv2D(filters=384, kernel_size=(3,3), strides=(1,1), padding='same', use_bias=True,\n",
    "               kernel_initializer=glorot_normal(seed=1), bias_initializer='zeros', name = 'conv3' )(I)\n",
    "    I = BatchNormalization(axis = 3, name = 'bn_conv3')(I)\n",
    "    I = Activation('relu')(I)\n",
    "    \n",
    "    #Stage 4\n",
    "    I = Conv2D(filters=384, kernel_size=(3,3), strides=(1,1), padding='same', use_bias=True,\n",
    "               kernel_initializer=glorot_normal(seed=1), bias_initializer='zeros', name = 'conv4' )(I)\n",
    "    I = BatchNormalization(axis = 3, name = 'bn_conv4')(I)\n",
    "    I = Activation('relu')(I)\n",
    "    \n",
    "    #Stage 5\n",
    "    I = Conv2D(filters=256, kernel_size=(3,3), strides=(1,1), padding='same', use_bias=True,\n",
    "               kernel_initializer=glorot_normal(seed=1), bias_initializer='zeros', name = 'conv5' )(I)\n",
    "    I = BatchNormalization(axis = 3, name = 'bn_conv5')(I)\n",
    "    I = Activation('relu')(I)\n",
    "    I = MaxPooling2D((3, 3), strides=(2, 2))(I)\n",
    "    \n",
    "    \n",
    "    #Flatten & Fully Connected layers\n",
    "    I = Flatten()(I)\n",
    "    I = Dense(units=4096, name='fc1', activation= 'relu', kernel_initializer = glorot_normal(seed=0))(I)\n",
    "    I = Dropout(0.5)(I)\n",
    "    I = Dense(units=4096, name='fc2', activation= 'relu', kernel_initializer = glorot_normal(seed=0))(I)\n",
    "    I = Dropout(0.5)(I)\n",
    "    I = Dense(labels, name='fc3' + str(labels), kernel_initializer = glorot_normal(seed=0))(I)\n",
    "    I = Activation('sigmoid')(I)\n",
    "    \n",
    "    model = Model(inputs = I_input, outputs = I, name='AlexNet')\n",
    "    \n",
    "    return model"
   ]
  },
  {
   "cell_type": "code",
   "execution_count": 22,
   "metadata": {},
   "outputs": [],
   "source": [
    "model = alexnet(input_shape = (256, 256, 3), labels = 2)"
   ]
  },
  {
   "cell_type": "code",
   "execution_count": 24,
   "metadata": {},
   "outputs": [],
   "source": [
    "adam = optimizers.Adam(lr=0.01, beta_1=0.9, beta_2=0.999, epsilon=None, decay=0.0, amsgrad=False)\n",
    "model.compile(optimizer=adam, loss='binary_crossentropy', metrics=['accuracy'])"
   ]
  },
  {
   "cell_type": "code",
   "execution_count": 25,
   "metadata": {},
   "outputs": [
    {
     "name": "stdout",
     "output_type": "stream",
     "text": [
      "_________________________________________________________________\n",
      "Layer (type)                 Output Shape              Param #   \n",
      "=================================================================\n",
      "input_6 (InputLayer)         (None, 256, 256, 3)       0         \n",
      "_________________________________________________________________\n",
      "conv1 (Conv2D)               (None, 62, 62, 96)        34944     \n",
      "_________________________________________________________________\n",
      "activation_20 (Activation)   (None, 62, 62, 96)        0         \n",
      "_________________________________________________________________\n",
      "max_pooling2d_13 (MaxPooling (None, 30, 30, 96)        0         \n",
      "_________________________________________________________________\n",
      "conv2 (Conv2D)               (None, 30, 30, 256)       614656    \n",
      "_________________________________________________________________\n",
      "activation_21 (Activation)   (None, 30, 30, 256)       0         \n",
      "_________________________________________________________________\n",
      "max_pooling2d_14 (MaxPooling (None, 14, 14, 256)       0         \n",
      "_________________________________________________________________\n",
      "conv3 (Conv2D)               (None, 14, 14, 384)       885120    \n",
      "_________________________________________________________________\n",
      "activation_22 (Activation)   (None, 14, 14, 384)       0         \n",
      "_________________________________________________________________\n",
      "conv4 (Conv2D)               (None, 14, 14, 384)       1327488   \n",
      "_________________________________________________________________\n",
      "activation_23 (Activation)   (None, 14, 14, 384)       0         \n",
      "_________________________________________________________________\n",
      "conv5 (Conv2D)               (None, 14, 14, 256)       884992    \n",
      "_________________________________________________________________\n",
      "activation_24 (Activation)   (None, 14, 14, 256)       0         \n",
      "_________________________________________________________________\n",
      "max_pooling2d_15 (MaxPooling (None, 6, 6, 256)         0         \n",
      "_________________________________________________________________\n",
      "flatten_5 (Flatten)          (None, 9216)              0         \n",
      "_________________________________________________________________\n",
      "fc1 (Dense)                  (None, 4096)              37752832  \n",
      "_________________________________________________________________\n",
      "dropout_3 (Dropout)          (None, 4096)              0         \n",
      "_________________________________________________________________\n",
      "fc2 (Dense)                  (None, 4096)              16781312  \n",
      "_________________________________________________________________\n",
      "dropout_4 (Dropout)          (None, 4096)              0         \n",
      "_________________________________________________________________\n",
      "fc32 (Dense)                 (None, 2)                 8194      \n",
      "_________________________________________________________________\n",
      "activation_25 (Activation)   (None, 2)                 0         \n",
      "=================================================================\n",
      "Total params: 58,289,538\n",
      "Trainable params: 58,289,538\n",
      "Non-trainable params: 0\n",
      "_________________________________________________________________\n"
     ]
    }
   ],
   "source": [
    "model.summary()"
   ]
  },
  {
   "cell_type": "code",
   "execution_count": null,
   "metadata": {},
   "outputs": [],
   "source": []
  }
 ],
 "metadata": {
  "kernelspec": {
   "display_name": "Python 3",
   "language": "python",
   "name": "python3"
  },
  "language_info": {
   "codemirror_mode": {
    "name": "ipython",
    "version": 3
   },
   "file_extension": ".py",
   "mimetype": "text/x-python",
   "name": "python",
   "nbconvert_exporter": "python",
   "pygments_lexer": "ipython3",
   "version": "3.6.5"
  }
 },
 "nbformat": 4,
 "nbformat_minor": 2
}
